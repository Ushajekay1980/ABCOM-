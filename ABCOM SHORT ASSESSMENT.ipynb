{
 "cells": [
  {
   "cell_type": "markdown",
   "id": "21e5562d",
   "metadata": {},
   "source": [
    "# ABCOM Information Systems Private Limited"
   ]
  },
  {
   "cell_type": "markdown",
   "id": "9c45b321",
   "metadata": {},
   "source": [
    "# Assessment"
   ]
  },
  {
   "cell_type": "code",
   "execution_count": 1,
   "id": "7b30cef2",
   "metadata": {},
   "outputs": [],
   "source": [
    "#1.Given two strings, a and b, return the result of putting them together in the order abba, \n",
    "#e.g. \"Hi\" and \"Bye\" returns \"HiByeByeHi\"."
   ]
  },
  {
   "cell_type": "code",
   "execution_count": 2,
   "id": "25a16c96",
   "metadata": {},
   "outputs": [
    {
     "name": "stdout",
     "output_type": "stream",
     "text": [
      "HiByeByeHi\n"
     ]
    }
   ],
   "source": [
    "def abba(a, b):\n",
    "    print(a + b + b + a)\n",
    "abba ('Hi', 'Bye')  "
   ]
  },
  {
   "cell_type": "code",
   "execution_count": 3,
   "id": "b1914948",
   "metadata": {},
   "outputs": [
    {
     "name": "stdout",
     "output_type": "stream",
     "text": [
      "YoAliceAliceYo\n",
      "WhatUpUpWhat\n"
     ]
    }
   ],
   "source": [
    "def abba(a,b):\n",
    "    print(a + b + b + a)\n",
    "abba ('Yo', 'Alice') \n",
    "abba ('What', 'Up')"
   ]
  },
  {
   "cell_type": "code",
   "execution_count": null,
   "id": "b49906a1",
   "metadata": {},
   "outputs": [],
   "source": [
    "#2.Given 2 strings, a and b, return the number of the positions where they contain the \n",
    "#same length 2 substring. So \"xxcaazz\" and \"xxbaaz\" yields 3, since the \"xx\", \"aa\", and \"az\" \n",
    "#substrings appear in the same place in both strings."
   ]
  },
  {
   "cell_type": "code",
   "execution_count": 4,
   "id": "dee79491",
   "metadata": {},
   "outputs": [
    {
     "name": "stdout",
     "output_type": "stream",
     "text": [
      "3\n"
     ]
    }
   ],
   "source": [
    "def string_match(a, b):\n",
    "    found = 0\n",
    "    for i in range(min([len(a), len(b)])-1):\n",
    "        if a[i] == b[i] and a[i+1] == b[i+1]:\n",
    "            found += 1\n",
    "    return found\n",
    "\n",
    "print(string_match('xxcaazz', 'xxbaaz'))"
   ]
  },
  {
   "cell_type": "code",
   "execution_count": 5,
   "id": "3064381a",
   "metadata": {},
   "outputs": [
    {
     "name": "stdout",
     "output_type": "stream",
     "text": [
      "2\n"
     ]
    }
   ],
   "source": [
    "#string_match('abc', 'abc') → 2\n",
    "#string_match('abc', 'axc') → 0\n",
    "\n",
    "def string_match(a, b):\n",
    "    found = 0\n",
    "    for i in range(min([len(a), len(b)])-1):\n",
    "        if a[i] == b[i] and a[i+1] == b[i+1]:\n",
    "            found += 1\n",
    "    return found\n",
    "\n",
    "print(string_match('abc', 'abc'))"
   ]
  },
  {
   "cell_type": "code",
   "execution_count": 6,
   "id": "ec9f5d8e",
   "metadata": {},
   "outputs": [
    {
     "name": "stdout",
     "output_type": "stream",
     "text": [
      "0\n"
     ]
    }
   ],
   "source": [
    "def string_match(a, b):\n",
    "    found = 0\n",
    "    for i in range(min([len(a), len(b)])-1):\n",
    "        if a[i] == b[i] and a[i+1] == b[i+1]:\n",
    "            found += 1\n",
    "    return found\n",
    "\n",
    "print(string_match('abc', 'axc'))"
   ]
  },
  {
   "cell_type": "code",
   "execution_count": 10,
   "id": "2a1507a5",
   "metadata": {},
   "outputs": [],
   "source": [
    "#3.Given an array of ints, return True if the sequence of numbers 1, 2, 3 appears in the array somewhere.\n",
    "\n",
    "#array123([1, 1, 2, 3, 1])  True\n",
    "#array123([1, 1, 2, 4, 1])  False\n",
    "#array123([1, 1, 2, 1, 2, 3]) True\n",
    "\n",
    "\n"
   ]
  },
  {
   "cell_type": "code",
   "execution_count": 20,
   "id": "4da6d061",
   "metadata": {},
   "outputs": [
    {
     "data": {
      "text/plain": [
       "False"
      ]
     },
     "execution_count": 20,
     "metadata": {},
     "output_type": "execute_result"
    }
   ],
   "source": [
    "\n",
    "def array123(nums):\n",
    "    for i in range(len(nums)-2):\n",
    "        if nums[i]==1 and nums[i+1]==2 and nums[i+2]==3:\n",
    "            return True\n",
    "        return False\n",
    "array123([1, 1, 2, 3, 1]) \n",
    "\n"
   ]
  },
  {
   "cell_type": "code",
   "execution_count": 21,
   "id": "b2745204",
   "metadata": {},
   "outputs": [
    {
     "data": {
      "text/plain": [
       "False"
      ]
     },
     "execution_count": 21,
     "metadata": {},
     "output_type": "execute_result"
    }
   ],
   "source": [
    "def array123(nums):\n",
    "    for i in range(len(nums)-2):\n",
    "        if nums[i]==1 and nums[i+1]==2 and nums[i+2]==3:\n",
    "            return True\n",
    "        return False\n",
    "array123([1, 1, 2, 4, 1])  \n",
    "    "
   ]
  },
  {
   "cell_type": "code",
   "execution_count": 22,
   "id": "6da5159f",
   "metadata": {},
   "outputs": [
    {
     "data": {
      "text/plain": [
       "True"
      ]
     },
     "execution_count": 22,
     "metadata": {},
     "output_type": "execute_result"
    }
   ],
   "source": [
    "def array123(nums):\n",
    "    for i in range(len(nums)-2):\n",
    "        if nums[i]==1 and nums[i+1]==2 and nums[i+2]==3:\n",
    "            return True\n",
    "    return False\n",
    "\n",
    "array123([1, 1, 2, 1, 2, 3])"
   ]
  },
  {
   "cell_type": "code",
   "execution_count": null,
   "id": "58cb9a53",
   "metadata": {},
   "outputs": [],
   "source": [
    "#4.Return the \"centered\" average of an array of ints, which we'll say is the mean average \n",
    "#of the values, except ignoring the largest and smallest values in the array. \n",
    "#If there are multiple copies of the smallest value, ignore just one copy, \n",
    "#and likewise for the largest value. Use int division to produce the final average. \n",
    "#You may assume that the array is length 3 or more.\n",
    "\n"
   ]
  },
  {
   "cell_type": "code",
   "execution_count": 27,
   "id": "30d55815",
   "metadata": {},
   "outputs": [
    {
     "data": {
      "text/plain": [
       "3.0"
      ]
     },
     "execution_count": 27,
     "metadata": {},
     "output_type": "execute_result"
    }
   ],
   "source": [
    "def centered_average(nums):\n",
    "    items = len(nums)\n",
    "    total = 0\n",
    "    high = max(nums)\n",
    "    low = min(nums)\n",
    "    for num in nums:\n",
    "        total += num\n",
    "    aveg = (total -high-low) / (items-2)\n",
    "    return aveg\n",
    "\n",
    "centered_average([1, 2, 3, 4, 100])"
   ]
  },
  {
   "cell_type": "code",
   "execution_count": 28,
   "id": "1a6bfbc9",
   "metadata": {},
   "outputs": [
    {
     "data": {
      "text/plain": [
       "5.2"
      ]
     },
     "execution_count": 28,
     "metadata": {},
     "output_type": "execute_result"
    }
   ],
   "source": [
    "def centered_average(nums):\n",
    "    items = len(nums)\n",
    "    total = 0\n",
    "    high = max(nums)\n",
    "    low = min(nums)\n",
    "    for num in nums:\n",
    "        total += num\n",
    "    aveg = (total -high-low) / (items-2)\n",
    "    return aveg\n",
    "centered_average([1, 1, 5, 5, 10, 8, 7])"
   ]
  },
  {
   "cell_type": "code",
   "execution_count": 29,
   "id": "17e1d349",
   "metadata": {},
   "outputs": [
    {
     "data": {
      "text/plain": [
       "-3.0"
      ]
     },
     "execution_count": 29,
     "metadata": {},
     "output_type": "execute_result"
    }
   ],
   "source": [
    "def centered_average(nums):\n",
    "    items = len(nums)\n",
    "    total = 0\n",
    "    high = max(nums)\n",
    "    low = min(nums)\n",
    "    for num in nums:\n",
    "        total += num\n",
    "    aveg = (total -high-low) / (items-2)\n",
    "    return aveg\n",
    "\n",
    "centered_average([-10, -4, -2, -4, -2, 0])"
   ]
  },
  {
   "cell_type": "code",
   "execution_count": 30,
   "id": "bf811cfd",
   "metadata": {},
   "outputs": [],
   "source": [
    "#5.Given 3 int values, a b c, return their sum. However, if any of the values is a teen -- \n",
    "#in the range 13..19 inclusive -- then that value counts as 0, except 15 and 16 do not count \n",
    "#as a teens. Write a separate helper \"def fix_teen(n):\"that takes in an int value and returns \n",
    "#that value fixed for the teen rule. In this way, you avoid repeating the teen code 3 times \n",
    "#(i.e. \"decomposition\"). Define the helper below and at the same indent level as \n",
    "#the main no_teen_sum().\n",
    "#no_teen_sum(1, 2, 3) → 6\n",
    "#no_teen_sum(2, 13, 1) → 3\n",
    "#no_teen_sum(2, 1, 14) → 3\n"
   ]
  },
  {
   "cell_type": "code",
   "execution_count": 32,
   "id": "f583ead5",
   "metadata": {},
   "outputs": [
    {
     "data": {
      "text/plain": [
       "6"
      ]
     },
     "execution_count": 32,
     "metadata": {},
     "output_type": "execute_result"
    }
   ],
   "source": [
    "def no_teen_sum(a, b, c):\n",
    "    return fix_teem(a) + fix_teem(b) + fix_teem(c)\n",
    "\n",
    "def fix_teem(n):\n",
    "    if n>=13 and n<=19:\n",
    "        if n == 15 or n == 16:\n",
    "            return n\n",
    "        else:\n",
    "            return 0\n",
    "    else:\n",
    "        return n\n",
    "\n",
    "no_teen_sum(1, 2, 3)"
   ]
  },
  {
   "cell_type": "code",
   "execution_count": 33,
   "id": "916076c8",
   "metadata": {},
   "outputs": [
    {
     "data": {
      "text/plain": [
       "3"
      ]
     },
     "execution_count": 33,
     "metadata": {},
     "output_type": "execute_result"
    }
   ],
   "source": [
    "def no_teen_sum(a, b, c):\n",
    "    return fix_teem(a) + fix_teem(b) + fix_teem(c)\n",
    "\n",
    "def fix_teem(n):\n",
    "    if n>=13 and n<=19:\n",
    "        if n == 15 or n == 16:\n",
    "            return n\n",
    "        else:\n",
    "            return 0\n",
    "    else:\n",
    "        return n\n",
    "no_teen_sum(2, 13, 1)\n"
   ]
  },
  {
   "cell_type": "code",
   "execution_count": 34,
   "id": "946b852b",
   "metadata": {},
   "outputs": [
    {
     "data": {
      "text/plain": [
       "3"
      ]
     },
     "execution_count": 34,
     "metadata": {},
     "output_type": "execute_result"
    }
   ],
   "source": [
    "def no_teen_sum(a, b, c):\n",
    "    return fix_teem(a) + fix_teem(b) + fix_teem(c)\n",
    "\n",
    "def fix_teem(n):\n",
    "    if n>=13 and n<=19:\n",
    "        if n == 15 or n == 16:\n",
    "            return n\n",
    "        else:\n",
    "            return 0\n",
    "    else:\n",
    "        return n\n",
    "no_teen_sum(2, 1, 14)\n"
   ]
  },
  {
   "cell_type": "code",
   "execution_count": 35,
   "id": "b1dea4e6",
   "metadata": {},
   "outputs": [],
   "source": [
    "#6.Given a non-empty string like \"Code\" return a string like \"CCoCodCode\".\n",
    "\n",
    "#string_splosion('Code') → 'CCoCodCode'\n",
    "#string_splosion('abc') → 'aababc'\n",
    "#string_splosion('ab') → 'aab'\n"
   ]
  },
  {
   "cell_type": "code",
   "execution_count": 37,
   "id": "f90d3e98",
   "metadata": {},
   "outputs": [
    {
     "data": {
      "text/plain": [
       "'CCoCodCode'"
      ]
     },
     "execution_count": 37,
     "metadata": {},
     "output_type": "execute_result"
    }
   ],
   "source": [
    "def string_splosion(str): \n",
    "    result = ''\n",
    "    for i in range(len(str)+1): \n",
    "        result += str[:i]\n",
    "    return result\n",
    "\n",
    "string_splosion('Code')\n"
   ]
  },
  {
   "cell_type": "code",
   "execution_count": 38,
   "id": "8e781169",
   "metadata": {},
   "outputs": [
    {
     "data": {
      "text/plain": [
       "'aaaaabaabaaababaababc'"
      ]
     },
     "execution_count": 38,
     "metadata": {},
     "output_type": "execute_result"
    }
   ],
   "source": [
    "def string_splosion(str): \n",
    "    result = ''\n",
    "    for i in range(len(str)+1): \n",
    "        result += str[:i]\n",
    "    return result\n",
    "string_splosion('aababc')"
   ]
  },
  {
   "cell_type": "code",
   "execution_count": 39,
   "id": "ebbd6b3c",
   "metadata": {},
   "outputs": [
    {
     "data": {
      "text/plain": [
       "'aaaaab'"
      ]
     },
     "execution_count": 39,
     "metadata": {},
     "output_type": "execute_result"
    }
   ],
   "source": [
    "def string_splosion(str): \n",
    "    result = ''\n",
    "    for i in range(len(str)+1): \n",
    "        result += str[:i]\n",
    "    return result\n",
    "string_splosion('aab')\n"
   ]
  },
  {
   "cell_type": "code",
   "execution_count": null,
   "id": "8737073d",
   "metadata": {},
   "outputs": [],
   "source": []
  }
 ],
 "metadata": {
  "kernelspec": {
   "display_name": "Python 3",
   "language": "python",
   "name": "python3"
  },
  "language_info": {
   "codemirror_mode": {
    "name": "ipython",
    "version": 3
   },
   "file_extension": ".py",
   "mimetype": "text/x-python",
   "name": "python",
   "nbconvert_exporter": "python",
   "pygments_lexer": "ipython3",
   "version": "3.8.8"
  }
 },
 "nbformat": 4,
 "nbformat_minor": 5
}
